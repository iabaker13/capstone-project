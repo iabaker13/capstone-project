{
 "cells": [
  {
   "cell_type": "code",
   "execution_count": 1,
   "id": "f4014c05-5af9-4fef-aa0f-8195aca2f9fd",
   "metadata": {},
   "outputs": [
    {
     "name": "stdout",
     "output_type": "stream",
     "text": [
      "An error occurred: <urlopen error [SSL: CERTIFICATE_VERIFY_FAILED] certificate verify failed: self-signed certificate in certificate chain (_ssl.c:1000)>\n"
     ]
    }
   ],
   "source": [
    "from Bio import Entrez\n",
    "import csv\n",
    "\n",
    "def pubmed_scraper(keyword, start_date, end_date, filename):\n",
    "    # Set email address for NCBI id\n",
    "    Entrez.email = \"isabela.baker@uth.tmc.edu\"  # Replace with applicable email\n",
    "\n",
    "    # Define search\n",
    "    search_query = f\"{keyword} AND ({start_date}:{end_date}[Date - Publication])\"\n",
    "\n",
    "    try:\n",
    "        # Perform search \n",
    "        handle = Entrez.esearch(db=\"pubmed\", term=search_query, retmode=\"xml\")\n",
    "        record = Entrez.read(handle)\n",
    "        handle.close()\n",
    "\n",
    "        # Fetch paper details \n",
    "        papers = []\n",
    "        for pm_id in record[\"IdList\"]:\n",
    "            pubmed_article = Entrez.efetch(db=\"pubmed\", id=pm_id, retmode=\"xml\")\n",
    "            pubmed_record = Entrez.read(pubmed_article)[0]\n",
    "            pubmed_article.close()\n",
    "\n",
    "            title = pubmed_record[\"MedlineCitation\"][\"Article\"][\"ArticleTitle\"]\n",
    "            authors = \", \".join([author[\"LastName\"] + \" \" + author[\"Initials\"] for author in pubmed_record[\"MedlineCitation\"][\"Article\"][\"AuthorList\"]])\n",
    "            publication_time = pubmed_record[\"MedlineCitation\"][\"Article\"][\"ArticleDate\"] if \"ArticleDate\" in pubmed_record[\"MedlineCitation\"][\"Article\"] else \"\"\n",
    "            abstract = pubmed_record[\"MedlineCitation\"][\"Article\"][\"Abstract\"][\"AbstractText\"][0] if \"Abstract\" in pubmed_record[\"MedlineCitation\"][\"Article\"] else \"\"\n",
    "            mesh = pubmed_record[\"MedlineCitation\"][\"MeshHeadingList\"]\n",
    "            descriptors = ','.join(term[\"DescriptorName\"] for term in mesh)\n",
    "\n",
    "            papers.append([title, authors, publication_time, abstract, descriptors])\n",
    "\n",
    "        # Save data to csv\n",
    "        with open(filename, \"w\", newline=\"\", encoding=\"utf-8\") as csvfile:\n",
    "            csvwriter = csv.writer(csvfile)\n",
    "            csvwriter.writerow([\"Title\", \"Authors\", \"Publication Time\", \"Abstract\", \"Mesh Descriptors\"])\n",
    "            csvwriter.writerows(papers)\n",
    "\n",
    "        print(f\"Data has been successfully written to {filename}\")\n",
    "\n",
    "    except Exception as e:\n",
    "        print(f\"An error occurred: {e}\")\n",
    "\n",
    "if __name__ == \"__main__\":\n",
    "    keyword = \"HIV\"\n",
    "    start_date = \"2020/01/01\"\n",
    "    end_date = \"2020/08/30\"\n",
    "    filename = \"pubmed_data.csv\"\n",
    "\n",
    "    pubmed_scraper(keyword, start_date, end_date, filename)\n"
   ]
  },
  {
   "cell_type": "code",
   "execution_count": null,
   "id": "c1bd0cb1-9af3-4721-a076-5f55b7b6f412",
   "metadata": {},
   "outputs": [],
   "source": []
  }
 ],
 "metadata": {
  "kernelspec": {
   "display_name": "Python 3 (ipykernel)",
   "language": "python",
   "name": "python3"
  },
  "language_info": {
   "codemirror_mode": {
    "name": "ipython",
    "version": 3
   },
   "file_extension": ".py",
   "mimetype": "text/x-python",
   "name": "python",
   "nbconvert_exporter": "python",
   "pygments_lexer": "ipython3",
   "version": "3.12.0"
  }
 },
 "nbformat": 4,
 "nbformat_minor": 5
}
