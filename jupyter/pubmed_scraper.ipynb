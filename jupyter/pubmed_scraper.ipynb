{
  "metadata": {
    "language_info": {
      "codemirror_mode": {
        "name": "python",
        "version": 3
      },
      "file_extension": ".py",
      "mimetype": "text/x-python",
      "name": "python",
      "nbconvert_exporter": "python",
      "pygments_lexer": "ipython3",
      "version": "3.8"
    },
    "kernelspec": {
      "name": "python",
      "display_name": "Python (Pyodide)",
      "language": "python"
    }
  },
  "nbformat_minor": 4,
  "nbformat": 4,
  "cells": [
    {
      "cell_type": "code",
      "source": "from Bio import Entrez\nimport csv\n\ndef pubmed_scraper(keyword, start_date, end_date, filename):\n    #set email address for NCBI id\n    Entrez.email = \"isabela.baker@uth.tmc.edu\"\n    \n    #define search\n    search_query = f\"{keyword} AND ({start_date}:{end_date}[Date - Publication])\"\n    \n    #perform search \n    handle = Entrez.esearch(db=\"pubmed\", term=search_query, retmode=\"xml\")\n    record = Entrez.read(handle)\n    handle.close()\n\n    #fetch paper details \n    papers = []\n    for id in record[\"IdList\"]:\n        pubmed_article = Entrez.efetch(db=\"pubmed\", id=id, retmode=\"xml\")\n        pubmed_record = Entrez.read(pubmed_article)[0]\n        pubmed_article.close()\n\n        title = pubmed_record[0][\"MedlineCitation\"][\"Article\"][\"ArticleTitle\"]\n        authors = \", \".join([author[\"LastName\"] + \" \" + author[\"Initials\"] for author in pubmed_record[\"MedlineCitation\"][\"Article\"][\"AuthorList\"]])\n        publication_time = pubmed_record[\"MedlineCitation\"][\"Article\"][\"ArticleDate\"]\n        abstract = pubmed_record[0][\"MedlineCitation\"][\"Article\"][\"Abstract\"][\"AbstractText\"][0] if \"Abstract\" in pubmed_record[\"MedlineCitation\"][\"Article\"] else \"\"\n        mesh = pubmed_record[0][\"MedlineCitation\"][\"MeshHeadingList\"]\n        descriptors = ','.join(term[\"DescriptorName\"] for term in mesh)\n\n        papers.append([title, authors, publication_time, abstract, descriptors])\n\n    #save data to csv\n    with open(filename, \"w\", newline=\"\", encoding=\"utf-8\") as csvfile:\n        csvwriter = csv.writer(csvfile)\n        csvwriter.writerow([\"Title\", \"Authors\", \"publication Time\", \"Abstract\"])\n        csvwriter.writerows(papers)\n\nif __name__ == \"__main__\":\n    keyword = \"HIV\"\n    start_date = \"2020/01/01\"\n    end_date = \"2020/08/30\"\n    filename = \"pubmed_data.csv\"\n\n    pubmed_scraper(keyword, start_date, end_date, filename) ",
      "metadata": {
        "trusted": true
      },
      "execution_count": null,
      "outputs": []
    },
    {
      "cell_type": "code",
      "source": "",
      "metadata": {},
      "execution_count": null,
      "outputs": []
    }
  ]
}